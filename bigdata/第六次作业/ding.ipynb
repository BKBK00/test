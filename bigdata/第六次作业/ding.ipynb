{
 "cells": [
  {
   "cell_type": "code",
   "execution_count": 196,
   "metadata": {},
   "outputs": [],
   "source": [
    "import numpy as np\n",
    "import pandas as pd\n",
    "import matplotlib.pyplot as plt\n",
    "'''\n",
    "def loadDataSet(path):\n",
    "    dataMat = [];labelMat = []\n",
    "    with open(path) as f:\n",
    "        for line in f.readlines()[1:]:\n",
    "            lineList = line.strip().split()\n",
    "            dataMat.append([1.0,float(lineList[1]),float(lineList[2]),\n",
    "            float(lineList[1])**2,float(lineList[2])**2])\n",
    "            labelMat.append(int(lineList[0]))\n",
    "    return dataMat,labelMat\n",
    "#画图\n",
    "def plotDataSet(path):\n",
    "    datamat = pd.read_csv(path,sep = \"\\t\",header=0)\n",
    "    groups=datamat.groupby(datamat.y)\n",
    "    group_1=groups.get_group(1)\n",
    "    group_0=groups.get_group(0)\n",
    "    ax=group_0.plot.scatter(x='X1',y='X2',color='r')\n",
    "    group_1.plot.scatter(x='X1',y='X2',color='b',ax=ax)\n",
    "'''\n",
    "\n",
    "\n",
    "def loadLamba(path):\n",
    "    lamb=[]\n",
    "    with open(path) as f:\n",
    "        for line in f.readlines():\n",
    "            lineList = line.strip().split()\n",
    "            lamb.append(lineList)\n",
    "    return lamb\n",
    "\n",
    "def L_2(weights):\n",
    "    \n",
    "    return np.square(weights).sum()\n",
    "\n",
    "def sigmoid(z):\n",
    "    \n",
    "    return 1.0/(1+np.exp(-z))\n",
    "\n",
    "def costReg(weights,X,y,lamb):\n",
    "    weights=np.matrix(weights)\n",
    "    X=np.matrix(X)\n",
    "    y=np.matrix(y)\n",
    "    first = np.multiply(-y,np.log(sigmoid(X*weights)))\n",
    "    second = np.multiply((1-y),np.log(1-sigmoid(X*weights)))\n",
    "    reg = lamb/(2*len(X))*L_2(weights)\n",
    "    return np.sum(first -second )/len(X)+reg\n",
    "\n",
    "def gradientReg(weights,X,y,lamb):\n",
    "    weights=np.matrix(weights)\n",
    "    X=np.matrix(X)\n",
    "    y=np.matrix(y)\n",
    "\n",
    "    parameters=int(weights.ravel().shape[1])\n",
    "    grad = np.zeros(parameters)\n",
    "    error= sigmoid(X*weights)-y.T\n",
    "    for j in range (parameters):\n",
    "        term = np.multiply(error,X[:,j])\n",
    "\n",
    "        if (j==0):\n",
    "            grad[j] = np.sum(term)/len(X)\n",
    "        else:\n",
    "            grad[j] = (np.sum(term)/len(X)) + ((lamb/len(X))*weights[j,:])\n",
    "    grad=np.matrix(grad)\n",
    "    return grad\n",
    "\n",
    "def train(lamb,X,y,alpha=1):\n",
    "    n,m = np.shape(X)\n",
    "    weights =np.mat(np.ones((m,1)))\n",
    "    maxCycles = 100\n",
    "    for i in range(0,maxCycles):\n",
    "        grad=gradientReg(weights,X,y,lamb)\n",
    "        weights= weights - (alpha*grad).T\n",
    "    #print(weights)\n",
    "    return weights\n",
    "\n",
    "def loaddata(path):\n",
    "    data=pd.read_csv(path,header=None,sep = \"\\t\",names=['y','x1','x2'])[1:]\n",
    "    return data\n",
    "\n",
    "def clip_data(data):\n",
    "    x1 = data['x1']\n",
    "    x2 = data['x2']\n",
    "    y =data['y']\n",
    "    x1=pd.to_numeric(x1)\n",
    "    x2=pd.to_numeric(x2)\n",
    "    y=pd.to_numeric(y)\n",
    "    return y,x1,x2\n",
    "\n",
    "def festure_mapping(x1,x2,degree):\n",
    "    data = pd.DataFrame()\n",
    "    data['常数项']=None\n",
    "    for i in range(1,degree+1):#从1取到6\n",
    "        for j in range(0,i+1):\n",
    "            data['F'+str(i-j) + str(j)] = np.power(x1,i-j) * np.power(x2,j)\n",
    "    data['常数项']=1\n",
    "    return data \n",
    "\n",
    "def txt2data(path,degree):\n",
    "    data=loaddata(path)\n",
    "    y,x1,x2=clip_data(data)\n",
    "    data=festure_mapping(x1,x2,degree)\n",
    "    \n",
    "    return data,y\n",
    "    \n",
    "def predict(weights,X):\n",
    "    X=np.matrix(X)\n",
    "    weights=np.matrix(weights)\n",
    "    probability = sigmoid(X*weights)\n",
    "    return [1 if x>=0.5 else 0 for x in probability]\n",
    "    \n",
    "\n",
    "#数据可视化\n",
    "def plotData(data,X_labels,y_label):\n",
    "    positive = data[data[y_label].isin([1])]\n",
    "    negative = data[data[y_label].isin([0])]\n",
    "\n",
    "    fig,ax = plt.subplots(figsize=(12,8))\n",
    "    ax.scatter(positive[X_labels[0]],positive[X_labels[1]],s=50,c='b',marker='o',label='ffs')\n",
    "    ax.scatter(negative[X_labels[0]],negative[X_labels[1]],s=50,c='r',marker='x',label='值为1')\n",
    "    ax.set_xlabel(X_labels[0]+'SCORE')\n",
    "    ax.set_ylabel(X_labels[1]+'SCORE')"
   ]
  },
  {
   "cell_type": "code",
   "execution_count": 197,
   "metadata": {},
   "outputs": [],
   "source": [
    "degree=6\n",
    "train_data,train_label = txt2data('train.txt',degree)\n",
    "test_data,test_label = txt2data('test.txt',degree)"
   ]
  },
  {
   "cell_type": "code",
   "execution_count": 202,
   "metadata": {},
   "outputs": [
    {
     "data": {
      "text/plain": [
       "pandas.core.frame.DataFrame"
      ]
     },
     "execution_count": 202,
     "metadata": {},
     "output_type": "execute_result"
    }
   ],
   "source": [
    "type(train_data)"
   ]
  },
  {
   "cell_type": "code",
   "execution_count": 198,
   "metadata": {},
   "outputs": [],
   "source": [
    "def accuracy(weights,data,label):\n",
    "    predictions=predict(weights,data)\n",
    "    correct = [1 if ((a==1 and b== 1)or(a==0 and b== 0)) else 0 for (a,b) in zip(predictions,label) ]\n",
    "    accuracy= (sum(map(int,correct))% len(correct))\n",
    "    print ('accuracy={0}%'.format(accuracy))\n",
    "    return accuracy\n"
   ]
  },
  {
   "cell_type": "code",
   "execution_count": 199,
   "metadata": {},
   "outputs": [
    {
     "name": "stdout",
     "output_type": "stream",
     "text": [
      "accuracy=17%\n"
     ]
    }
   ],
   "source": [
    "\n",
    "\n",
    "weights=train(0.1,train_data,train_label)\n",
    "weights\n",
    "predictions= predict(weights,test_data)#####！！！！！\n",
    "correct = [1 if ((a==1 and b== 1)or(a==0 and b== 0)) else 0 for (a,b) in zip(predictions,test_label) ]\n",
    "accuracy= (sum(map(int,correct))% len(correct))\n",
    "print ('accuracy={0}%'.format(accuracy))\n",
    "\n"
   ]
  },
  {
   "cell_type": "code",
   "execution_count": null,
   "metadata": {},
   "outputs": [],
   "source": [
    "#cs\n",
    "\n",
    "weights.shape\n",
    "list=[]\n",
    "for i in lamb:\n",
    "    for j in i:\n",
    "        list.append(j)\n",
    "a=pd.DataFrame(columns=['1e+10'], index=range(0,weights.shape[0]))\n",
    "a['1e+10']=weights\n",
    "a"
   ]
  },
  {
   "cell_type": "code",
   "execution_count": 118,
   "metadata": {},
   "outputs": [
    {
     "name": "stderr",
     "output_type": "stream",
     "text": [
      "C:\\Users\\MR\\AppData\\Local\\Temp/ipykernel_11608/212430911.py:39: RuntimeWarning: overflow encountered in exp\n",
      "  return 1.0/(1+np.exp(-z))\n"
     ]
    }
   ],
   "source": [
    "def change_lamb(lamb,is_train=True):\n",
    "    if is_train==True:\n",
    "        p_data=train_data\n",
    "        p_lebal=train_label\n",
    "    else:\n",
    "        p_data=test_data\n",
    "        p_lebal=test_label\n",
    "\n",
    "    list=[]\n",
    "    for i in lamb:\n",
    "        for j in i:\n",
    "            list.append(j) \n",
    "    weights_result=pd.DataFrame(columns=list)\n",
    "    accuracy_list=[]\n",
    "    for i in lamb:\n",
    "        for j in i:\n",
    "            weights=train(float(j),train_data,train_label)\n",
    "            predictions= predict(weights,p_data)\n",
    "            correct = [1 if ((a==1 and b== 1)or(a==0 and b== 0)) else 0 for (a,b) in zip(predictions,p_lebal) ]\n",
    "            accuracy= (sum(map(int,correct))% len(correct)) \n",
    "            accuracy_list.append(accuracy)\n",
    "            #print ('lambda={0},accuracy={1}%'.format(float(j),accuracy))\n",
    "            lamb_weight=pd.DataFrame(columns=[j],index=range(0,weights.shape[0]))\n",
    "            lamb_weight[j]=weights\n",
    "            #print(weights)\n",
    "            #print(lamb_weight)\n",
    "            weights_result[j]=lamb_weight[j]\n",
    "    return  weights_result,accuracy_list\n",
    "lamb=loadLamba('lambda.txt')\n"
   ]
  },
  {
   "cell_type": "code",
   "execution_count": 119,
   "metadata": {},
   "outputs": [
    {
     "name": "stderr",
     "output_type": "stream",
     "text": [
      "C:\\Users\\MR\\AppData\\Local\\Temp/ipykernel_11608/212430911.py:39: RuntimeWarning: overflow encountered in exp\n",
      "  return 1.0/(1+np.exp(-z))\n"
     ]
    }
   ],
   "source": [
    "weights_train,acc_list_train=change_lamb(lamb,is_train=True)\n",
    "weights_test,acc_list_test=change_lamb(lamb,is_train=False)\n",
    "#acc_list_test"
   ]
  },
  {
   "cell_type": "code",
   "execution_count": 170,
   "metadata": {},
   "outputs": [
    {
     "data": {
      "text/plain": [
       "50"
      ]
     },
     "execution_count": 170,
     "metadata": {},
     "output_type": "execute_result"
    }
   ],
   "source": [
    "lambdas = list(np.array(pd.read_csv('lambda.txt', header=None).values).flatten())\n",
    "\n",
    "log_lambdas = [np.log10(i) for i in  lambdas]\n",
    "len(log_lambdas)\n"
   ]
  },
  {
   "cell_type": "code",
   "execution_count": 190,
   "metadata": {},
   "outputs": [
    {
     "data": {
      "text/plain": [
       "50"
      ]
     },
     "execution_count": 190,
     "metadata": {},
     "output_type": "execute_result"
    }
   ],
   "source": [
    "\n",
    "train_results = []\n",
    "for i in range(len(weights_train)):\n",
    "    train_results.append(list(weights_train[i:i+1].values.flatten()))\n",
    "\n",
    "train_results[0]\n",
    "train_thetas = [train_results[i] for i in range(len(weights_train))]\n",
    "\n",
    "#len(train_thetas)\n",
    "len(train_results[0])\n",
    "#train_thetas[0]"
   ]
  },
  {
   "cell_type": "code",
   "execution_count": 195,
   "metadata": {},
   "outputs": [
    {
     "data": {
      "image/png": "[encoded data removed]",
      "text/plain": [
       "<Figure size 432x288 with 1 Axes>"
      ]
     },
     "metadata": {
      "needs_background": "light"
     },
     "output_type": "display_data"
    }
   ],
   "source": [
    "#a=list(weights_train[0:1].values.flatten())\n",
    "plt.plot(log_lambdas, train_results[-1], linestyle='--')\n",
    "plt.xlabel('log10(lambda)')\n",
    "plt.ylabel('theta')\n",
    "plt.show()\n",
    "\n",
    "#a\n"
   ]
  },
  {
   "cell_type": "code",
   "execution_count": null,
   "metadata": {},
   "outputs": [],
   "source": [
    "train_results = []\n",
    "for i in range(len(weights_train)):\n",
    "    train_results.append(list(weights_train[i:i+1].values.flatten()))\n",
    "\n",
    "train_results"
   ]
  },
  {
   "cell_type": "code",
   "execution_count": null,
   "metadata": {},
   "outputs": [],
   "source": [
    "\n",
    "plt.plot(log_lambdas, a, linestyle='--')\n",
    "plt.xlabel('log10(lambda)')\n",
    "plt.ylabel('theta')\n",
    "plt.show()"
   ]
  },
  {
   "cell_type": "code",
   "execution_count": null,
   "metadata": {},
   "outputs": [],
   "source": [
    "plt.plot(log_lambdas, train_thetas, linestyle='--')\n",
    "plt.xlabel('log10(lambda)')\n",
    "plt.ylabel('theta')\n",
    "plt.show()"
   ]
  },
  {
   "cell_type": "code",
   "execution_count": null,
   "metadata": {},
   "outputs": [],
   "source": [
    "weights_test[1][0]"
   ]
  },
  {
   "cell_type": "code",
   "execution_count": null,
   "metadata": {},
   "outputs": [],
   "source": [
    "lambdas = list(np.array(pd.read_csv('lambda.txt', header=None).values).flatten())\n",
    "\n",
    "log_lambdas = [np.log10(i) for i in  lambdas]\n"
   ]
  },
  {
   "cell_type": "code",
   "execution_count": null,
   "metadata": {},
   "outputs": [],
   "source": []
  },
  {
   "cell_type": "code",
   "execution_count": null,
   "metadata": {},
   "outputs": [
    {
     "name": "stderr",
     "output_type": "stream",
     "text": [
      "C:\\Users\\MR\\AppData\\Local\\Temp/ipykernel_11608/2389416592.py:39: RuntimeWarning: overflow encountered in exp\n",
      "  return 1.0/(1+np.exp(-z))\n"
     ]
    }
   ],
   "source": [
    "def change_lamb(lamb,is_train=True):\n",
    "    if is_train==True:\n",
    "        p_data=train_data\n",
    "        p_lebal=train_label\n",
    "    else:\n",
    "        p_data=test_data\n",
    "        p_lebal=test_label\n",
    "\n",
    "    list=[]\n",
    "    for i in lamb:\n",
    "        for j in i:\n",
    "            list.append(j) \n",
    "    weights_result=pd.DataFrame(columns=list)\n",
    "    accuracy_list=[]\n",
    "    for i in lamb:\n",
    "        for j in i:\n",
    "            weights=train(float(j),train_data,train_label)\n",
    "            predictions= predict(weights,p_data)\n",
    "            correct = [1 if ((a==1 and b== 1)or(a==0 and b== 0)) else 0 for (a,b) in zip(predictions,p_lebal) ]\n",
    "            accuracy= (sum(map(int,correct))% len(correct)) \n",
    "            accuracy_list.append(accuracy)\n",
    "            #print ('lambda={0},accuracy={1}%'.format(float(j),accuracy))\n",
    "            lamb_weight=pd.DataFrame(columns=[j],index=range(0,weights.shape[0]))\n",
    "            lamb_weight[j]=weights\n",
    "            #print(weights)\n",
    "            #print(lamb_weight)\n",
    "            weights_result[j]=lamb_weight[j]\n",
    "    return  weights_result,accuracy_list\n",
    "lamb=loadLamba('lambda.txt')\n",
    "lamb\n",
    "acc_list=change_lamb(lamb,is_train=True)\n",
    "        "
   ]
  },
  {
   "cell_type": "code",
   "execution_count": 71,
   "metadata": {},
   "outputs": [
    {
     "data": {
      "image/png": "[encoded data removed]",
      "text/plain": [
       "<Figure size 432x288 with 1 Axes>"
      ]
     },
     "metadata": {
      "needs_background": "light"
     },
     "output_type": "display_data"
    }
   ],
   "source": [
    "plt.plot(log_lambdas, acc_list, c='blue')\n",
    "plt.xlabel('log10(lambda)')\n",
    "plt.ylabel('accuracy on train data set')\n",
    "plt.show()"
   ]
  },
  {
   "cell_type": "code",
   "execution_count": 73,
   "metadata": {},
   "outputs": [
    {
     "data": {
      "image/png": "[encoded data removed]",
      "text/plain": [
       "<Figure size 432x288 with 1 Axes>"
      ]
     },
     "metadata": {
      "needs_background": "light"
     },
     "output_type": "display_data"
    }
   ],
   "source": [
    "plt.plot(log_lambdas, acc_list_test, c='green')\n",
    "plt.xlabel('log10(lambda)')\n",
    "plt.ylabel('accuracy on test data set')\n",
    "plt.show()\n"
   ]
  },
  {
   "cell_type": "code",
   "execution_count": 63,
   "metadata": {},
   "outputs": [
    {
     "data": {
      "text/plain": [
       "50"
      ]
     },
     "execution_count": 63,
     "metadata": {},
     "output_type": "execute_result"
    }
   ],
   "source": [
    "len(acc_list)"
   ]
  },
  {
   "cell_type": "code",
   "execution_count": null,
   "metadata": {},
   "outputs": [],
   "source": [
    "from scipy import optimize as opt\n",
    "\n",
    "train_results = opt.fmin_tnc(func=costReg, x0=weights, fprime=gradientReg, args=(train_data, train_label, 1))"
   ]
  },
  {
   "cell_type": "code",
   "execution_count": null,
   "metadata": {},
   "outputs": [],
   "source": [
    "#lamb_weight['1e+10']=weights\n",
    "type(lamb_weight['68.66488450043'])\n"
   ]
  },
  {
   "cell_type": "code",
   "execution_count": null,
   "metadata": {},
   "outputs": [],
   "source": [
    "##beifen\n",
    "def change_lamb(lamb):\n",
    "    for i in lamb:\n",
    "        for j in i:\n",
    "            weights=train(float(j),train_data,test_label)\n",
    "            predictions= predict(weights,train_data)\n",
    "            correct = [1 if ((a==1 and b== 1)or(a==0 and b== 0)) else 0 for (a,b) in zip(predictions,train_label) ]\n",
    "            accuracy= (sum(map(int,correct))% len(correct))\n",
    "            #print ('lambda={0},accuracy={1}%'.format(float(j),accuracy))\n",
    "    return accuracy\n",
    "lamb=loadLamba('lambda.txt')\n",
    "lamb\n",
    "lamb_weight=change_lamb(lamb)\n",
    "        "
   ]
  },
  {
   "cell_type": "code",
   "execution_count": null,
   "metadata": {},
   "outputs": [],
   "source": [
    "type(lamb_weight)\n",
    "aa=np.asarray(lamb_weight)\n",
    "aa.index"
   ]
  },
  {
   "cell_type": "code",
   "execution_count": null,
   "metadata": {},
   "outputs": [],
   "source": [
    "lamb_weight.shape\n",
    "x=pd.DataFrame()\n",
    "x['1']=aa"
   ]
  },
  {
   "cell_type": "code",
   "execution_count": null,
   "metadata": {},
   "outputs": [],
   "source": [
    "#调线性包\n",
    "from sklearn import linear_model\n",
    "model = linear_model.LogisticRegression(penalty='l2')\n",
    "model.fit(train_data,train_label)\n",
    "model.score(test_data,test_label)"
   ]
  },
  {
   "cell_type": "code",
   "execution_count": null,
   "metadata": {},
   "outputs": [],
   "source": [
    "#数据可视化\n",
    "def plotData(data,X_labels,y_label):\n",
    "    positive = data[data[y_label].isin([1])]\n",
    "    negative = data[data[y_label].isin([0])]\n",
    "\n",
    "    fig,ax = plt.subplots(figsize=(12,8))\n",
    "    ax.scatter(positive[X_labels[0]],positive[X_labels[1]],s=50,c='b',marker='o',label='ffs')\n",
    "    ax.scatter(negative[X_labels[0]],negative[X_labels[1]],s=50,c='r',marker='x',label='值为1')\n",
    "    ax.set_xlabel(X_labels[0]+'SCORE')\n",
    "    ax.set_ylabel(X_labels[1]+'SCORE')"
   ]
  },
  {
   "cell_type": "code",
   "execution_count": 89,
   "metadata": {},
   "outputs": [],
   "source": [
    "#画图用数据\n",
    "def tt_data(data,label):\n",
    "    data1=pd.DataFrame()\n",
    "    data1['y']=label\n",
    "    data1['x1']=data.F10\n",
    "    data1['x2']=data.F01\n",
    "    plotData(data1,['x1','x2'],'y')\n",
    "    return data1\n",
    "\n"
   ]
  },
  {
   "cell_type": "code",
   "execution_count": 91,
   "metadata": {},
   "outputs": [
    {
     "data": {
      "image/png": "[encoded data removed]",
      "text/plain": [
       "<Figure size 864x576 with 1 Axes>"
      ]
     },
     "metadata": {
      "needs_background": "light"
     },
     "output_type": "display_data"
    }
   ],
   "source": [
    "data1=tt_data(train_data,train_label)"
   ]
  },
  {
   "cell_type": "code",
   "execution_count": 105,
   "metadata": {},
   "outputs": [
    {
     "data": {
      "image/png": "[encoded data removed]",
      "text/plain": [
       "<Figure size 864x576 with 1 Axes>"
      ]
     },
     "metadata": {
      "needs_background": "light"
     },
     "output_type": "display_data"
    }
   ],
   "source": [
    "data2=tt_data(test_data,test_label)"
   ]
  },
  {
   "cell_type": "code",
   "execution_count": 108,
   "metadata": {},
   "outputs": [
    {
     "data": {
      "text/plain": [
       "(20, 3)"
      ]
     },
     "execution_count": 108,
     "metadata": {},
     "output_type": "execute_result"
    }
   ],
   "source": [
    "data2.shape\n",
    "#predictions=predict(weights,data2)"
   ]
  },
  {
   "cell_type": "code",
   "execution_count": null,
   "metadata": {},
   "outputs": [],
   "source": [
    "#cs\n",
    "X_labels=['x1','x2']\n",
    "positive = data[data['y'].isin([1])]\n",
    "negative = data[data['y'].isin([0])]\n",
    "fig,ax = plt.subplots(figsize=(12,8))\n",
    "ax.scatter(positive[X_labels[0]],positive['x2'],c='g',marker='o',label='值为0')\n",
    "ax.scatter(negative[X_labels[0]],negative['x2'],c='b',marker='x',label='值为1')\n",
    "ax.set_xlabel('x1'+'SCORE')"
   ]
  },
  {
   "cell_type": "code",
   "execution_count": null,
   "metadata": {},
   "outputs": [],
   "source": [
    "len(weights)"
   ]
  },
  {
   "cell_type": "code",
   "execution_count": 97,
   "metadata": {},
   "outputs": [],
   "source": [
    "#画边界\n",
    "def find_decision_boundary(density,degree,theta,threshhold,cord_bounds):\n",
    "    t1 =  np.linspace(cord_bounds[0],cord_bounds[1],density)\n",
    "    t2 =  np.linspace(cord_bounds[2],cord_bounds[3],density)\n",
    "\n",
    "    cordinates = [(x,y) for x in t1 for y in t2 ]\n",
    "    x_cord , y_cord =zip(*cordinates)\n",
    "    mapped_cord = festure_mapping(x_cord,y_cord,degree)\n",
    "    #mapped_cord.insert(0,'Ones',1)\n",
    "    inner_product = np.matrix(mapped_cord)*theta\n",
    "    decision =  mapped_cord[np.abs(inner_product)<threshhold]\n",
    "    return decision .F10,decision .F01\n",
    "\n",
    "def draw_boundary(data,degree,theta,X_labels,y_label,cord_bounds):\n",
    "    density=1000\n",
    "    threshhould=2*10**-3\n",
    "\n",
    "    x,y = find_decision_boundary(density,degree,theta,threshhould,cord_bounds)\n",
    "    positive = data[data[y_label].isin([1])]\n",
    "    negative = data[data[y_label].isin([0])]\n",
    "\n",
    "    plotData(data,X_labels,y_label)\n",
    "    plt.scatter(x,y,c='g',s=10)\n",
    "    plt.title('decision boundary')\n",
    "#weights=lamb_weight['68.66488450043']\n",
    "#weights=weights.values\n",
    "#weights=np.mat(weights)\n",
    "weights=train(68.66488450043,train_data,train_label)"
   ]
  },
  {
   "cell_type": "code",
   "execution_count": 99,
   "metadata": {},
   "outputs": [
    {
     "data": {
      "image/png": "[encoded data removed]",
      "text/plain": [
       "<Figure size 864x576 with 1 Axes>"
      ]
     },
     "metadata": {
      "needs_background": "light"
     },
     "output_type": "display_data"
    }
   ],
   "source": [
    "draw_boundary(data1,degree,weights,['x1','x2'],'y',[-1,1.5,-1,1.5])"
   ]
  },
  {
   "cell_type": "code",
   "execution_count": 100,
   "metadata": {},
   "outputs": [
    {
     "data": {
      "image/png": "[encoded data removed]",
      "text/plain": [
       "<Figure size 864x576 with 1 Axes>"
      ]
     },
     "metadata": {
      "needs_background": "light"
     },
     "output_type": "display_data"
    }
   ],
   "source": [
    "draw_boundary(data2,degree,weights,['x1','x2'],'y',[-1,1.5,-1,1.5])"
   ]
  },
  {
   "cell_type": "code",
   "execution_count": null,
   "metadata": {},
   "outputs": [],
   "source": [
    "weights=lamb_weight['68.66488450043']\n",
    "weights=weights.values\n",
    "weights=np.mat(weights)"
   ]
  }
 ],
 "metadata": {
  "interpreter": {
   "hash": "cc5f70855ac006f3de45a3cc3b9e7d8d53845e50458809cb162b0174266dec97"
  },
  "kernelspec": {
   "display_name": "Python 3.8.8 64-bit ('base': conda)",
   "language": "python",
   "name": "python3"
  },
  "language_info": {
   "codemirror_mode": {
    "name": "ipython",
    "version": 3
   },
   "file_extension": ".py",
   "mimetype": "text/x-python",
   "name": "python",
   "nbconvert_exporter": "python",
   "pygments_lexer": "ipython3",
   "version": "3.8.8"
  },
  "orig_nbformat": 4
 },
 "nbformat": 4,
 "nbformat_minor": 2
}
