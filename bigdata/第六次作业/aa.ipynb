{
 "cells": [
  {
   "cell_type": "code",
   "execution_count": 1,
   "metadata": {},
   "outputs": [],
   "source": [
    "import pandas as pd\n",
    "import numpy as np\n",
    "TR = pd.read_csv(r\"train.txt\",sep = \"\\t\",header=0)\n",
    "TE = pd.read_csv(r\"test.txt\",sep = \"\\t\",header=0)\n",
    "#读取同一文件夹路径下的txt文件，故不加路径\n",
    "#r是转义符，防止文件路径的\\被转义；不加r时可以把路径的\\改为/。本段代码不体现r的作用kkk\n",
    " \n",
    "#sep=','以逗号为分隔符。如txt中1，2，3，python读出为1 2 3\n",
    " \n",
    "#header=None txt的第一行数据作为python读出的第一行数据\n",
    "#header=0 txt第一行数据作为python读出数据的表格索引；header=1 txt的第二行数据作为索引"
   ]
  },
  {
   "cell_type": "code",
   "execution_count": 1,
   "metadata": {},
   "outputs": [],
   "source": [
    "def sigmoid(z):\n",
    "    '''\n",
    "    输入：加权的输入数据w*x\n",
    "    功能：执行sigmoid变换\n",
    "    输出：sigmoid变换值，值域（0,1）\n",
    "    '''\n",
    "    return 1.0/(1+np.exp(-z))"
   ]
  },
  {
   "cell_type": "code",
   "execution_count": 83,
   "metadata": {},
   "outputs": [],
   "source": [
    "TR.to_csv('train.csv',index=False)\n",
    "TE.to_csv('test.csv',index=False)"
   ]
  },
  {
   "cell_type": "code",
   "execution_count": 80,
   "metadata": {},
   "outputs": [],
   "source": [
    "del TR"
   ]
  },
  {
   "cell_type": "code",
   "execution_count": 6,
   "metadata": {},
   "outputs": [],
   "source": [
    "def plotDataSet(path):\n",
    "    datamat = pd.read_csv(path,sep = \"\\t\",header=0)\n",
    "    groups=datamat.groupby(datamat.y)\n",
    "    group_1=groups.get_group(1)\n",
    "    group_0=groups.get_group(0)\n",
    "    ax=group_0.plot.scatter(x='X1',y='X2',color='r')\n",
    "    group_1.plot.scatter(x='X1',y='X2',color='b',ax=ax)"
   ]
  },
  {
   "cell_type": "code",
   "execution_count": 7,
   "metadata": {},
   "outputs": [
    {
     "data": {
      "image/png": "[encoded data removed]",
      "text/plain": [
       "<Figure size 432x288 with 1 Axes>"
      ]
     },
     "metadata": {
      "needs_background": "light"
     },
     "output_type": "display_data"
    }
   ],
   "source": [
    "plotDataSet('train.txt')"
   ]
  },
  {
   "cell_type": "code",
   "execution_count": 84,
   "metadata": {},
   "outputs": [],
   "source": [
    "train_x1 = TR.X1\n",
    "train_x2 = TR.X2\n",
    "train_x1_seq= train_x1**2\n",
    "train_x2_seq= train_x2**2\n",
    "label = TR.y"
   ]
  },
  {
   "cell_type": "code",
   "execution_count": 107,
   "metadata": {},
   "outputs": [
    {
     "data": {
      "text/plain": [
       "array([[1.],\n",
       "       [1.],\n",
       "       [1.],\n",
       "       [1.],\n",
       "       [1.]])"
      ]
     },
     "execution_count": 107,
     "metadata": {},
     "output_type": "execute_result"
    }
   ],
   "source": [
    "weights=np.ones([5,1])\n",
    "weights"
   ]
  },
  {
   "cell_type": "code",
   "execution_count": null,
   "metadata": {},
   "outputs": [],
   "source": [
    "a=np.array([train_x1,train_x2])\n",
    "a.shape"
   ]
  },
  {
   "cell_type": "code",
   "execution_count": 110,
   "metadata": {},
   "outputs": [],
   "source": [
    "TR_5D=TR.copy()\n"
   ]
  },
  {
   "cell_type": "code",
   "execution_count": 111,
   "metadata": {},
   "outputs": [],
   "source": [
    "TR_5D['x1_seq']=train_x1_seq\n",
    "TR_5D['x2_seq']=train_x2_seq\n",
    "TR_5D['常数']=1\n",
    "del TR_5D['y']\n"
   ]
  },
  {
   "cell_type": "code",
   "execution_count": 112,
   "metadata": {},
   "outputs": [],
   "source": [
    "TR_5D=TR_5D[['常数','X1','X2','x1_seq','x2_seq']]"
   ]
  },
  {
   "cell_type": "code",
   "execution_count": 113,
   "metadata": {},
   "outputs": [
    {
     "data": {
      "text/plain": [
       "(118, 5)"
      ]
     },
     "execution_count": 113,
     "metadata": {},
     "output_type": "execute_result"
    }
   ],
   "source": [
    "np_TR_5D= np.array(TR_5D)\n",
    "np_TR_5D.shape"
   ]
  },
  {
   "cell_type": "code",
   "execution_count": null,
   "metadata": {},
   "outputs": [],
   "source": [
    "\n",
    "n,m = np.shape(dataMatrix)\n",
    "alpha = 0.01#梯度算法的步长，可以控制收敛的速度以及最后模型的精度\n",
    "maxCycles = 500#批处理，权值跟新的最大次数\n",
    "weights = np.ones((m,1))*0.01 #初始化权值，权值个数等于特征个数（包括常数项1）\n",
    "for k in range(maxCycles):\n",
    "    predictLabel = sigmoid(np_TR_5D*weights)\n",
    "    error = (labelMatrix - predictLabel)\n",
    "     #计算梯度\n",
    "    gradient = dataMatrix.transpose() * error\n",
    "    #更新权重\n",
    "    weights = weights +alpha * gradient\n"
   ]
  }
 ],
 "metadata": {
  "interpreter": {
   "hash": "cc5f70855ac006f3de45a3cc3b9e7d8d53845e50458809cb162b0174266dec97"
  },
  "kernelspec": {
   "display_name": "Python 3.8.8 64-bit ('base': conda)",
   "language": "python",
   "name": "python3"
  },
  "language_info": {
   "codemirror_mode": {
    "name": "ipython",
    "version": 3
   },
   "file_extension": ".py",
   "mimetype": "text/x-python",
   "name": "python",
   "nbconvert_exporter": "python",
   "pygments_lexer": "ipython3",
   "version": "3.8.8"
  },
  "orig_nbformat": 4
 },
 "nbformat": 4,
 "nbformat_minor": 2
}
