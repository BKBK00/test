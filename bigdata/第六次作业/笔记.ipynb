{
 "cells": [
  {
   "cell_type": "code",
   "execution_count": null,
   "metadata": {},
   "outputs": [],
   "source": [
    "mapped_cord.insert(0,'Ones',1)\n",
    "#pandas.core.frame.DataFrame,指定位置插入常数列\n",
    "def festure_mapping(x1,x2,degree):\n",
    "    data = pd.DataFrame()\n",
    "    data['常数项']=None\n",
    "    for i in range(1,degree+1):#从1取到6\n",
    "        for j in range(0,i+1):\n",
    "            data['F'+str(i-j) + str(j)] = np.power(x1,i-j) * np.power(x2,j)\n",
    "    data['常数项']=1\n",
    "    return data \n",
    "#也可以先占位再插入"
   ]
  },
  {
   "cell_type": "code",
   "execution_count": null,
   "metadata": {},
   "outputs": [],
   "source": [
    "\n",
    "#lamb=([['1e+10'],['3906939937.05462'],.....])\n",
    "# 这种列表形式可以用两层for循环拿掉然后float转格式\n",
    "def change_lamb(lamb):\n",
    "    for i in lamb:\n",
    "        for j in i:\n",
    "            weights=train(float(j),train_data,y)"
   ]
  }
 ],
 "metadata": {
  "language_info": {
   "name": "python"
  },
  "orig_nbformat": 4
 },
 "nbformat": 4,
 "nbformat_minor": 2
}
