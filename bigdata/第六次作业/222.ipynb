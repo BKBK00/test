{
 "cells": [
  {
   "cell_type": "code",
   "execution_count": 2,
   "metadata": {},
   "outputs": [],
   "source": [
    "import numpy as np\n",
    "import matplotlib.pyplot as plt\n",
    "\n",
    "def loadDataSet(path):\n",
    "    '''\n",
    "    输入：无\n",
    "    功能：读取txt中数据并将输入和标签分别存储\n",
    "    输出：输入数据dataMat,标签数据labelMat\n",
    "    '''\n",
    "    dataMat = [];labelMat = []\n",
    "    with open(path) as f:\n",
    "        for line in f.readlines()[1:]:\n",
    "            lineList = line.strip().split()\n",
    "            dataMat.append([1.0,float(lineList[1]),float(lineList[2]),\n",
    "            float(lineList[1])**2,float(lineList[2])**2])\n",
    "            labelMat.append(int(lineList[0]))\n",
    "    return dataMat,labelMat\n",
    "    \n"
   ]
  },
  {
   "cell_type": "code",
   "execution_count": 3,
   "metadata": {},
   "outputs": [],
   "source": [
    "train_data,train_label =loadDataSet('train.txt')\n",
    "test_data,test_label =loadDataSet('test.txt')"
   ]
  },
  {
   "cell_type": "code",
   "execution_count": 6,
   "metadata": {},
   "outputs": [
    {
     "ename": "AttributeError",
     "evalue": "'list' object has no attribute 'shape'",
     "output_type": "error",
     "traceback": [
      "\u001b[1;31m---------------------------------------------------------------------------\u001b[0m",
      "\u001b[1;31mAttributeError\u001b[0m                            Traceback (most recent call last)",
      "\u001b[1;32m~\\AppData\\Local\\Temp/ipykernel_26972/3712223425.py\u001b[0m in \u001b[0;36m<module>\u001b[1;34m\u001b[0m\n\u001b[1;32m----> 1\u001b[1;33m \u001b[0mtrain_data\u001b[0m\u001b[1;33m.\u001b[0m\u001b[0mshape\u001b[0m\u001b[1;33m\u001b[0m\u001b[1;33m\u001b[0m\u001b[0m\n\u001b[0m",
      "\u001b[1;31mAttributeError\u001b[0m: 'list' object has no attribute 'shape'"
     ]
    }
   ],
   "source": [
    "train_data."
   ]
  },
  {
   "cell_type": "code",
   "execution_count": 96,
   "metadata": {},
   "outputs": [],
   "source": [
    "\n",
    "def loadLamba(path):\n",
    "    lamb=[]\n",
    "    with open(path) as f:\n",
    "        for line in f.readlines():\n",
    "            lineList = line.strip().split()\n",
    "            lamb.append([lineList[0]])\n",
    "    return lamb\n",
    "\n",
    "def sigmoid(z):\n",
    "    \n",
    "    return 1.0/(1+np.exp(-z))\n",
    "\n",
    "def L_2(weights):\n",
    "    return np.square(weights).sum()\n",
    "\n",
    "\n",
    "def cost(weights,X,y):\n",
    "    first = np.multiply(-y,np.log(sigmoid(X*weights)))\n",
    "    second = np.multiply((1-y),np.log(1-sigmoid(X*weights)))\n",
    "    return np.sum(first -second )/len(X)\n"
   ]
  },
  {
   "cell_type": "code",
   "execution_count": 128,
   "metadata": {},
   "outputs": [],
   "source": [
    "\n",
    "\n",
    "def gradientAscent(dataMat,labelMat,lamb):\n",
    "    '''\n",
    "    输入：输入特征矩阵，标签列表\n",
    "    功能：批处理梯度上升算法，更新权重\n",
    "    输出：权重向量\n",
    "    '''\n",
    "    dataMatrix = np.mat(dataMat)\n",
    "    labelMatrix = np.mat(labelMat).transpose()\n",
    "    n,m = np.shape(dataMatrix)\n",
    "    alpha = 0.01#梯度算法的步长，可以控制收敛的速度以及最后模型的精度\n",
    "    maxCycles = 500#批处理，权值跟新的最大次数\n",
    "    weights = np.ones((m,1))*0.01 #初始化权值，权值个数等于特征个数（包括常数项1）\n",
    "    for k in range(maxCycles):\n",
    "        predictLabel = sigmoid(dataMatrix*weights)\n",
    "        #error = cost(weights,dataMatrix,labelMatrix )+lamb/(2*n)*L_2(weights)\n",
    "        error = (labelMatrix - predictLabel)\n",
    "        print(error,'error')\n",
    "        #计算梯度\n",
    "        gradient = dataMatrix.transpose() * error\n",
    "        #更新权重\n",
    "        weights = weights - alpha * gradient\n",
    "    return weights,error\n"
   ]
  },
  {
   "cell_type": "code",
   "execution_count": null,
   "metadata": {},
   "outputs": [],
   "source": [
    "weights=gradientAscent(train_data,train_label,-1)\n",
    "len(weights)"
   ]
  },
  {
   "cell_type": "code",
   "execution_count": 131,
   "metadata": {},
   "outputs": [],
   "source": [
    "def stoGradAscent(dataMat,labelMat,lamb):\n",
    "    '''\n",
    "    输入：输入特征矩阵，标签列表\n",
    "    功能：随机梯度上升算法，更新权重，只用了一遍数据集\n",
    "    输出：权重向量\n",
    "    '''\n",
    "    dataMatrix = np.mat(dataMat)\n",
    "    n,m = np.shape(dataMatrix)\n",
    "    alpha = 0.01\n",
    "    weights =np.mat(np.ones((m,1)))\n",
    "    for i in range(n):\n",
    "        predictlabel = sigmoid(dataMatrix[i] * weights)\n",
    "        #error = cost(weights,dataMatrix,labelMatrix )+lamb/(2*n)*L_2(weights)\n",
    "        error = labelMat[i] - predictlabel\n",
    "        print(error,'error')\n",
    "        #计算梯度\n",
    "        gradient = np.multiply(dataMatrix[i],error)\n",
    "        #更新权重\n",
    "        weights = weights - alpha * gradient.transpose()        \n",
    "    return weights"
   ]
  },
  {
   "cell_type": "code",
   "execution_count": null,
   "metadata": {},
   "outputs": [],
   "source": [
    "weights=stoGradAscent(train_data,train_label,-10)"
   ]
  },
  {
   "cell_type": "code",
   "execution_count": null,
   "metadata": {},
   "outputs": [],
   "source": [
    "weights"
   ]
  },
  {
   "cell_type": "code",
   "execution_count": 82,
   "metadata": {},
   "outputs": [],
   "source": [
    "def logisticTest(weights,testData):\n",
    "    '''\n",
    "    输入：权值，测试数据\n",
    "    功能：利用训练的数据计算测试数据对应的标签\n",
    "    输出：测试数据的标签\n",
    "    '''\n",
    "    n,m = np.shape(np.mat(testData))\n",
    "    testLabel = np.zeros((n,1))\n",
    "    for i in range(n):\n",
    "        testLabel[i] = weights[0]+weights[1]*testData[i][0]+weights[2]*testData[i][1]+weights[3]*(testData[i][0]**2)+weights[4]*(testData[i][1]**2)\n",
    "        print(testLabel[i])\n",
    "        if testLabel[i] >= 0.5: testLabel[i] = 1\n",
    "        else:  testLabel[i] = 0\n",
    "    return testLabel"
   ]
  },
  {
   "cell_type": "code",
   "execution_count": null,
   "metadata": {},
   "outputs": [],
   "source": [
    "testLabel=logisticTest(weights,train_data)"
   ]
  },
  {
   "cell_type": "code",
   "execution_count": null,
   "metadata": {},
   "outputs": [],
   "source": [
    "testLabel"
   ]
  },
  {
   "cell_type": "code",
   "execution_count": 29,
   "metadata": {},
   "outputs": [],
   "source": [
    "def plotBestFit(dataMat,weights):\n",
    "    '''\n",
    "    输入：输入数据,权值矩阵\n",
    "    功能：画出前两个特征的二维图及分类曲线\n",
    "    输出：散点图\n",
    "    '''    \n",
    "    plt.figure()\n",
    "    plotDataSet(dataMat)\n",
    "    x = np.mat(np.arange(-4.0,4.0,0.1))\n",
    "    y = (-weights[0]-weights[1] * x)/weights[2]\n",
    "    plt.plot(x.transpose(),y.transpose())\n",
    "    plt.show()"
   ]
  },
  {
   "cell_type": "code",
   "execution_count": 30,
   "metadata": {},
   "outputs": [
    {
     "data": {
      "image/png": "[encoded data removed]",
      "text/plain": [
       "<Figure size 432x288 with 1 Axes>"
      ]
     },
     "metadata": {
      "needs_background": "light"
     },
     "output_type": "display_data"
    }
   ],
   "source": [
    "plotBestFit(train_data,weights)"
   ]
  },
  {
   "cell_type": "code",
   "execution_count": null,
   "metadata": {},
   "outputs": [],
   "source": [
    "\n",
    "\n",
    "def costReg(weights,X,y,lamb):\n",
    "    weights=np.matrix(weights)\n",
    "    X=np.matrix(X)\n",
    "    y=np.matrix(y)\n",
    "    first = np.multiply(-y,np.log(sigmoid(X*weights)))\n",
    "    second = np.multiply((1-y),np.log(1-sigmoid(X*weights)))\n",
    "    reg = lamb/(2*len(X))*L_2(weights)\n",
    "    return np.sum(first -second )/len(X)+reg\n",
    "\n",
    "def gradientReg(weights,X,y,lamb):\n",
    "    weights=np.matrix(weights)\n",
    "    X=np.matrix(X)\n",
    "    y=np.matrix(y)\n",
    "\n",
    "    parameters=int(weights.ravel().shape[1])\n",
    "    grad = np.zeros(parameters)\n",
    "    error= sigmoid(X*weights)-y.T\n",
    "    for j in range (parameters):\n",
    "        term = np.multiply(error,X[:,j])\n",
    "\n",
    "        if (j==0):\n",
    "            grad[j] = np.sum(term)/len(X)\n",
    "        else:\n",
    "            grad[j] = (np.sum(term)/len(X)) + ((lamb/len(X))*weights[:,j])\n",
    "\n",
    "    return grad\n"
   ]
  },
  {
   "cell_type": "code",
   "execution_count": null,
   "metadata": {},
   "outputs": [],
   "source": []
  },
  {
   "cell_type": "code",
   "execution_count": null,
   "metadata": {},
   "outputs": [],
   "source": [
    "\n",
    "\n",
    "def plotDataSet(dataMat):\n",
    "    '''\n",
    "    输入：从txt文本文件里读取的输入数据\n",
    "    功能：画出前两个特征的二维图\n",
    "    输出：散点图\n",
    "    '''\n",
    "    x1 = np.mat(dataMat)[:,1]\n",
    "    x2 = np.mat(dataMat)[:,2]\n",
    "    line1,= plt.plot(x1[:50],x2[:50],'ro',label = 'class1')\n",
    "    line2, = plt.plot(x1[50:],x2[50:],'b^',label ='class0')\n",
    "    plt.xlabel('x1')\n",
    "    plt.ylabel('x2')\n",
    "    plt.legend(handles=[line1,line2],loc = 2)\n",
    "    plt.show() \n",
    "\n",
    "def plotBestFit(dataMat,weights):\n",
    "    '''\n",
    "    输入：输入数据,权值矩阵\n",
    "    功能：画出前两个特征的二维图及分类曲线\n",
    "    输出：散点图\n",
    "    '''    \n",
    "    plt.figure()\n",
    "    plotDataSet(dataMat)\n",
    "    x = np.mat(np.arange(-4.0,4.0,0.1))\n",
    "    y = (-weights[0]-weights[1] * x)/weights[2]\n",
    "    plt.plot(x.transpose(),y.transpose())\n",
    "    plt.show()\n",
    "\n",
    "def logisticTest(weights,testData):\n",
    "    '''\n",
    "    输入：权值，测试数据\n",
    "    功能：利用训练的数据计算测试数据对应的标签\n",
    "    输出：测试数据的标签\n",
    "    '''\n",
    "    n,m = np.shape(np.mat(testData))\n",
    "    testLabel = np.zeros((n,1))\n",
    "    for i in range(n):\n",
    "        testLabel[i] = weights[0]+weights[1]*testData[i][0]+weights[2]*testData[i][1]\n",
    "        if testLabel[i] >= 0.5: testLabel[i] = 1\n",
    "        else:  testLabel[i] = 0\n",
    "    return testLabel\n",
    "\n",
    "def stoGradAscent(dataMat,labelMat):\n",
    "    '''\n",
    "    输入：输入特征矩阵，标签列表\n",
    "    功能：随机梯度上升算法，更新权重，只用了一遍数据集\n",
    "    输出：权重向量\n",
    "    '''\n",
    "    dataMatrix = np.mat(dataMat)\n",
    "    n,m = np.shape(dataMatrix)\n",
    "    alpha = 0.01\n",
    "    weights =np.mat(np.ones((m,1)))\n",
    "    for i in range(n):\n",
    "        predictlabel = sigmoid(dataMatrix[i] * weights)\n",
    "        error = labelMat[i] - predictlabel\n",
    "        #计算梯度\n",
    "        gradient = np.multiply(dataMatrix[i],error)\n",
    "        #更新权重\n",
    "        weights = weights + alpha * gradient.transpose()        \n",
    "    return weights\n",
    "\n",
    "def improvedStoGradAscent(dataMat,labelMat,numInter = 150):   \n",
    "    '''\n",
    "    输入：输入特征矩阵，标签列表,最大迭代次数（决定了所有训练样本被使用多少次）\n",
    "    功能：改进的随机梯度上升算法，更新权重，随机选取训练样本中的数据\n",
    "    输出：权重向量\n",
    "    '''\n",
    "    dataMatrix = np.mat(dataMat)\n",
    "    n,m = np.shape(dataMatrix)\n",
    "    weights =np.mat(np.ones((m,1)))    \n",
    "    for j in range(numInter):\n",
    "        dataIndex = range(n)\n",
    "        for i in range(n):\n",
    "            #修改学习步长，缓解数据波动,由于常数项的存在，alpha不是严格下降的\n",
    "            #alpha =  0.01\n",
    "            alpha = 2/(1.0+j+i) + 0.0001\n",
    "            #获得随机样本索引\n",
    "            randIndex = int(np.random.uniform(0,len(dataIndex)))\n",
    "            predictlabel = sigmoid(dataMatrix[randIndex] * weights)\n",
    "            error = labelMat[randIndex] - predictlabel\n",
    "            gradient = np.multiply(dataMatrix[randIndex],error)\n",
    "            weights = weights + alpha * gradient.transpose()\n",
    "\n",
    "            del dataIndex[randIndex]\n",
    "    return weights\n",
    "\n",
    "if __name__ == '__main__':\n",
    "    dataMat,labelMat = loadDataSet()\n",
    "    #plt.figure(1)\n",
    "    #plotDataSet(dataMat)  \n",
    "    #------批处理梯度上升算法------\n",
    "    #weights,error = gradientAscent(dataMat,labelMat)\n",
    "    #-----随机梯度上升算法---\n",
    "    #weights = stoGradAscent(dataMat,labelMat)\n",
    "    #-----改进的随机梯度上升算法---\n",
    "    weights = improvedStoGradAscent(dataMat,labelMat,numInter = 150)    \n",
    "    plotBestFit(dataMat,weights)\n",
    "    testLabel = logisticTest(weights,[[0,0],[0,10]])"
   ]
  },
  {
   "cell_type": "code",
   "execution_count": null,
   "metadata": {},
   "outputs": [],
   "source": [
    "def festure_mapping(x1,x2,degree):\n",
    "    data = pd.da"
   ]
  }
 ],
 "metadata": {
  "interpreter": {
   "hash": "cc5f70855ac006f3de45a3cc3b9e7d8d53845e50458809cb162b0174266dec97"
  },
  "kernelspec": {
   "display_name": "Python 3.8.8 64-bit ('base': conda)",
   "language": "python",
   "name": "python3"
  },
  "language_info": {
   "codemirror_mode": {
    "name": "ipython",
    "version": 3
   },
   "file_extension": ".py",
   "mimetype": "text/x-python",
   "name": "python",
   "nbconvert_exporter": "python",
   "pygments_lexer": "ipython3",
   "version": "3.8.8"
  },
  "orig_nbformat": 4
 },
 "nbformat": 4,
 "nbformat_minor": 2
}
